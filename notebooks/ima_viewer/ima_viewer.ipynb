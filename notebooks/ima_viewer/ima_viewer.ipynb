{
 "cells": [
  {
   "cell_type": "markdown",
   "id": "49e6695c",
   "metadata": {},
   "source": [
    "<a id=\"top\"></a>\n",
    "# Easy IMA Viewer\n",
    "\n",
    "\n",
    "***\n",
    "## Learning Goals\n",
    "\n",
    "This notebook is intended to be a resouce for newer users of WFC3/IR data. \n",
    "\n",
    "- Learn about the IMA file type.\n",
    "- Download an IMA from MAST.\n",
    "- Visualize the different reads of the IMA.\n",
    "- Save the plotted reads as individual images, an animated GIF, or both.\n",
    "\n",
    "## Table of Contents\n",
    "\n",
    "[Introduction](#intro) <br>\n",
    "[1. Imports](#imports) <br>\n",
    "[2. Display IMA files](#display) <br>\n",
    "- [2.1 Data](#data) <br>\n",
    "- [2.2 Create IMA viewer](#create) <br>\n",
    "- [2.3 Save files](#save) <br>\n",
    "\n",
    "[3. Conclusions](#conclusions) <br>\n",
    "[Additional Resources](#add) <br>\n",
    "[About this Notebook](#about) <br>"
   ]
  },
  {
   "cell_type": "markdown",
   "id": "ec27a661",
   "metadata": {},
   "source": [
    "<a id=\"intro\"></a>\n",
    "## Introduction \n",
    "\n",
    "The WFC3 calibration pipline (calwf3) produces many different types of FITS files for each observation. \n",
    "The **intermediate MultiAccum** (IMA) file type is unique to the IR detector, and it is produced after all calibrations are applied (dark subtraction, linearity correction, flat fielding, etc.) to each of the individual readouts of the IR dataset. \n",
    "Since the reads are kept in separate extensions of the IMA, it is possible to see how the observation developed over exposure time, thus making it a valuable resource especially in cases of image anomalies, potential guide star failures, satellite trails, etc. \n",
    "However, IMA files can be confusing to inspect, largely due to the order of the FITS extensions and the possible extension types.\n",
    "\n",
    "This notebook leverages a set of functions, imported as a package, that allow for interactive visualization of an IMA file through Jupyter Widgets. You will be able to easily plot, customize, and save both static plots and animated GIFs (Graphics Interchange Format). "
   ]
  },
  {
   "cell_type": "markdown",
   "id": "eef122a3",
   "metadata": {},
   "source": [
    "<a id=\"imports\"></a>\n",
    "## 1. Imports\n",
    "\n",
    "Please see the `README.md` file for package specifications and instructions for creating a virtual environment.\n",
    "\n",
    "This notebook uses the following libraries:\n",
    "- *astropy.io fits* for accessing FITS files\n",
    "- *astroquery.mast Observations* for downloading data from MAST\n",
    "- *imageio* to make and save animated GIFs\n",
    "- *ipympl* as a matplotlib backend to enable interactive widgets\n",
    "- *IPython.display* to display widgets and other components\n",
    "- *ipywidgets* to make widgets for plotting\n",
    "- *matplotlib pyplot* for plotting data\n",
    "- *matplotlib.ticker* to configure tick locating and formatting \n",
    "- *matplotlib.colors* to normalize images\n",
    "- *numpy* for calculating limit percentiles\n",
    "- *os* for verifying and creating paths\n",
    "- *shutil* for moving files"
   ]
  },
  {
   "cell_type": "code",
   "execution_count": 1,
   "id": "2e1bf798",
   "metadata": {},
   "outputs": [],
   "source": [
    "from astropy.io import fits\n",
    "from astroquery.mast import Observations\n",
    "import imageio.v2 as imageio\n",
    "from IPython.display import display\n",
    "from ipywidgets import interact, interactive, Layout\n",
    "import ipywidgets as widgets\n",
    "import matplotlib\n",
    "import matplotlib.pyplot as plt\n",
    "import matplotlib.ticker as tick\n",
    "from matplotlib.colors import Normalize\n",
    "import numpy as np\n",
    "import os\n",
    "import shutil\n",
    "%matplotlib ipympl\n",
    "\n",
    "from ima_tools import make_interactive_plot, gif_settings_widgets, make_frames, make_gif"
   ]
  },
  {
   "cell_type": "markdown",
   "id": "61c78a3e",
   "metadata": {},
   "source": [
    "<a id=\"display\"></a>\n",
    "## 2. Display IMA files \n",
    "\n",
    "In this section, we will download an IMA file (if needed), create an interactive plot of the IMA file, and then save the output as frames and a composite animated GIF. "
   ]
  },
  {
   "cell_type": "markdown",
   "id": "83cadf65",
   "metadata": {},
   "source": [
    "<a id=\"data\"></a>\n",
    "### 2.1 Data\n",
    "\n",
    "If you already have an IMA file you'd like to visualize, you can define the path to the file in the cell below."
   ]
  },
  {
   "cell_type": "code",
   "execution_count": 2,
   "id": "be885dc7",
   "metadata": {},
   "outputs": [],
   "source": [
    "#filepath = path/to/file_ima.fits"
   ]
  },
  {
   "cell_type": "markdown",
   "id": "63f6a714",
   "metadata": {},
   "source": [
    "If you've defined a path in the cell above, you can now skip to the next subsection. \n",
    "\n",
    "Otherwise, continue on to download a file from MAST."
   ]
  },
  {
   "cell_type": "markdown",
   "id": "72ca38b4",
   "metadata": {},
   "source": [
    "Let's download the IMA for a particular observation, which has a rootname or observation ID of `idpq32w0q`. \n",
    "\n",
    "Importantly, even if we know the observation ID, if the particular observation is part of an association, the `query_criteria` function will not be able to find the exact observation.  "
   ]
  },
  {
   "cell_type": "code",
   "execution_count": 3,
   "id": "aab01de2",
   "metadata": {},
   "outputs": [
    {
     "name": "stdout",
     "output_type": "stream",
     "text": [
      "0\n"
     ]
    },
    {
     "name": "stderr",
     "output_type": "stream",
     "text": [
      "WARNING: NoResultsWarning: Query returned no results. [astroquery.mast.discovery_portal]\n"
     ]
    }
   ],
   "source": [
    "obs_id = 'idpq32w0q'\n",
    "\n",
    "obs = Observations.query_criteria(obs_id=obs_id)\n",
    "print(len(obs))"
   ]
  },
  {
   "cell_type": "markdown",
   "id": "ab361edc",
   "metadata": {},
   "source": [
    "Instead, we can use the first six characters, which uniquely represent the instrument identifier, program ID, and the visit number. To that, we add a wildcard character so that we get a list of observations from the same instrument, program, and visit as our intended observation, `idpq32w0q`.\n",
    "\n",
    "You can read more about the HST file naming conventions [here](https://archive.stsci.edu/hlsp/ipppssoot.html). "
   ]
  },
  {
   "cell_type": "code",
   "execution_count": 4,
   "id": "c9893445",
   "metadata": {},
   "outputs": [
    {
     "name": "stdout",
     "output_type": "stream",
     "text": [
      "3\n"
     ]
    }
   ],
   "source": [
    "obs = Observations.query_criteria(obs_id=obs_id[:6]+'*')\n",
    "print(len(obs))"
   ]
  },
  {
   "cell_type": "markdown",
   "id": "7dc099fd",
   "metadata": {},
   "source": [
    "Now we can access the products for these three observations in the same visit. We'll nest a couple of functions here, but [read the documentation](https://astroquery.readthedocs.io/en/latest/mast/mast.html) if you'd like to learn more about the `astroquery.mast` library. \n",
    "\n",
    "For this step, we set `productSubGroupDescription` to only return to us IMA files. Also in this step, we can precisely specify our observation ID. "
   ]
  },
  {
   "cell_type": "code",
   "execution_count": 5,
   "id": "bde2411b",
   "metadata": {},
   "outputs": [
    {
     "data": {
      "text/html": [
       "<div><i>Table masked=True length=1</i>\n",
       "<table id=\"table140453624830896\" class=\"table-striped table-bordered table-condensed\">\n",
       "<thead><tr><th>obsID</th><th>obs_collection</th><th>dataproduct_type</th><th>obs_id</th><th>description</th><th>type</th><th>dataURI</th><th>productType</th><th>productGroupDescription</th><th>productSubGroupDescription</th><th>productDocumentationURL</th><th>project</th><th>prvversion</th><th>proposal_id</th><th>productFilename</th><th>size</th><th>parent_obsid</th><th>dataRights</th><th>calib_level</th></tr></thead>\n",
       "<thead><tr><th>str8</th><th>str3</th><th>str5</th><th>str35</th><th>str62</th><th>str1</th><th>str67</th><th>str9</th><th>str28</th><th>str11</th><th>str1</th><th>str6</th><th>str19</th><th>str5</th><th>str50</th><th>int64</th><th>str8</th><th>str6</th><th>int64</th></tr></thead>\n",
       "<tr><td>26190073</td><td>HST</td><td>image</td><td>idpq32w0q</td><td>DADS IMA file - Intermediate Mult-Accum WFC3/NICMOS</td><td>S</td><td>mast:HST/product/idpq32w0q_ima.fits</td><td>AUXILIARY</td><td>--</td><td>IMA</td><td>--</td><td>CALWF3</td><td>3.6.2 (May-27-2021)</td><td>15363</td><td>idpq32w0q_ima.fits</td><td>126201600</td><td>26190085</td><td>PUBLIC</td><td>2</td></tr>\n",
       "</table></div>"
      ],
      "text/plain": [
       "<Table masked=True length=1>\n",
       " obsID   obs_collection dataproduct_type   obs_id                      description                     ...    size   parent_obsid dataRights calib_level\n",
       "  str8        str3            str5         str35                          str62                        ...   int64       str8        str6       int64   \n",
       "-------- -------------- ---------------- --------- --------------------------------------------------- ... --------- ------------ ---------- -----------\n",
       "26190073            HST            image idpq32w0q DADS IMA file - Intermediate Mult-Accum WFC3/NICMOS ... 126201600     26190085     PUBLIC           2"
      ]
     },
     "execution_count": 5,
     "metadata": {},
     "output_type": "execute_result"
    }
   ],
   "source": [
    "prods = Observations.filter_products(Observations.get_product_list(obs),\n",
    "                                     productSubGroupDescription='IMA',\n",
    "                                     obs_id='idpq32w0q')\n",
    "prods"
   ]
  },
  {
   "cell_type": "markdown",
   "id": "e0608cfb",
   "metadata": {},
   "source": [
    "We'll now be able to download our file to the current working directory. "
   ]
  },
  {
   "cell_type": "code",
   "execution_count": 6,
   "id": "3591f409",
   "metadata": {},
   "outputs": [
    {
     "name": "stdout",
     "output_type": "stream",
     "text": [
      "Downloading URL https://mast.stsci.edu/api/v0.1/Download/file?uri=mast:HST/product/idpq32w0q_ima.fits to ./mastDownload/HST/idpq32w0q/idpq32w0q_ima.fits ... [Done]\n"
     ]
    },
    {
     "data": {
      "text/html": [
       "<div><i>Table length=1</i>\n",
       "<table id=\"table140454430616688\" class=\"table-striped table-bordered table-condensed\">\n",
       "<thead><tr><th>Local Path</th><th>Status</th><th>Message</th><th>URL</th></tr></thead>\n",
       "<thead><tr><th>str47</th><th>str8</th><th>object</th><th>object</th></tr></thead>\n",
       "<tr><td>./mastDownload/HST/idpq32w0q/idpq32w0q_ima.fits</td><td>COMPLETE</td><td>None</td><td>None</td></tr>\n",
       "</table></div>"
      ],
      "text/plain": [
       "<Table length=1>\n",
       "                   Local Path                    Status  Message  URL  \n",
       "                     str47                        str8    object object\n",
       "----------------------------------------------- -------- ------- ------\n",
       "./mastDownload/HST/idpq32w0q/idpq32w0q_ima.fits COMPLETE    None   None"
      ]
     },
     "execution_count": 6,
     "metadata": {},
     "output_type": "execute_result"
    }
   ],
   "source": [
    "downloads = Observations.download_products(prods)\n",
    "downloads"
   ]
  },
  {
   "cell_type": "markdown",
   "id": "ad102e9c",
   "metadata": {},
   "source": [
    "The subdirectories made as part of this step are a bit cumbersome when we only have one file, so let's clean it up. "
   ]
  },
  {
   "cell_type": "code",
   "execution_count": 7,
   "id": "5902796d",
   "metadata": {},
   "outputs": [
    {
     "data": {
      "text/plain": [
       "True"
      ]
     },
     "execution_count": 7,
     "metadata": {},
     "output_type": "execute_result"
    }
   ],
   "source": [
    "downloaded_location = downloads['Local Path'][0]\n",
    "\n",
    "# move file to current working directory\n",
    "new_location = shutil.move(downloaded_location, os.getcwd())\n",
    "\n",
    "# now that there aren't any files, we can remove the default mastDownload directory\n",
    "shutil.rmtree('mastDownload')\n",
    "\n",
    "# set filepath variable \n",
    "filepath = f'{obs_id}_ima.fits'\n",
    "\n",
    "# double-check that the file was successfully moved\n",
    "os.path.exists(filepath)"
   ]
  },
  {
   "cell_type": "markdown",
   "id": "14580f96",
   "metadata": {},
   "source": [
    "Now we're ready to visualize. "
   ]
  },
  {
   "cell_type": "markdown",
   "id": "53233ade",
   "metadata": {},
   "source": [
    "<a id=\"create\"></a>\n",
    "### 2.2 Create IMA viewer\n",
    "\n",
    "Running the cell below will create a simple, interactive viewer so that you can inspect your IMA. \n",
    "\n",
    "- Using the controls at the top, you can scrub through the different extensions in chronological order, change the colormap, and adjust the scaling percentiles. \n",
    "\n",
    "- The default extension type is \"SCI\" for science. To view the error extensions, set `ext_type` to \"ERR\". To view the data quality flags extensions, set `ext_type` to \"DQ\". \n",
    "\n",
    "- As you pan your cursor over the plot, the pixel location (in x and y coordinates) and value update at the bottom.\n",
    "\n",
    "- You can use the plotting controls on the left to pan and zoom, as well as to save the current plot as a static image.\n",
    "\n",
    "There is an abrupt change within this exposure. See if you can figure out what it is."
   ]
  },
  {
   "cell_type": "code",
   "execution_count": 9,
   "id": "0f52f3bb",
   "metadata": {},
   "outputs": [
    {
     "data": {
      "application/vnd.jupyter.widget-view+json": {
       "model_id": "8b4b46efb002402bb4d9bfcb2b16f561",
       "version_major": 2,
       "version_minor": 0
      },
      "text/plain": [
       "interactive(children=(Dropdown(description='Colormap: ', index=86, layout=Layout(width='50%'), options=('magma…"
      ]
     },
     "metadata": {},
     "output_type": "display_data"
    },
    {
     "data": {
      "application/vnd.jupyter.widget-view+json": {
       "model_id": "6b2de82b9a6a4c8a84bb839d1229df66",
       "version_major": 2,
       "version_minor": 0
      },
      "image/png": "[encoded data removed]",
      "text/html": [
       "\n",
       "            <div style=\"display: inline-block;\">\n",
       "                <div class=\"jupyter-widgets widget-label\" style=\"text-align: center;\">\n",
       "                    Figure\n",
       "                </div>\n",
       "                <img src='data:image/png;base64,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' width=640.0/>\n",
       "            </div>\n",
       "        "
      ],
      "text/plain": [
       "Canvas(toolbar=Toolbar(toolitems=[('Home', 'Reset original view', 'home', 'home'), ('Back', 'Back to previous …"
      ]
     },
     "metadata": {},
     "output_type": "display_data"
    }
   ],
   "source": [
    "plot = make_interactive_plot(filepath, ext_type='SCI')"
   ]
  },
  {
   "cell_type": "markdown",
   "id": "bd09c20e",
   "metadata": {},
   "source": [
    "<a id=\"save\"></a>\n",
    "### 2.3 Save files\n",
    "\n",
    "Running the cell below will generate options for saving your IMA as frames, a GIF, or both. The limits, colormap, scaling, etc. will reflect whatever is currently set above. "
   ]
  },
  {
   "cell_type": "code",
   "execution_count": 11,
   "id": "b7c8fc61",
   "metadata": {},
   "outputs": [
    {
     "data": {
      "application/vnd.jupyter.widget-view+json": {
       "model_id": "d74839fb8783444eab64c637fae34b84",
       "version_major": 2,
       "version_minor": 0
      },
      "text/plain": [
       "VBox(children=(HBox(children=(VBox(children=(HBox(children=(HTML(value='<style>p{word-wrap: break-word}</style…"
      ]
     },
     "metadata": {},
     "output_type": "display_data"
    }
   ],
   "source": [
    "gif_setup = gif_settings_widgets(plot)"
   ]
  },
  {
   "cell_type": "markdown",
   "id": "f7d517e4",
   "metadata": {},
   "source": [
    "When the IMA viewer and the widget settings are to your liking, run the following two cells to \n",
    "1. Make the frames. \n",
    "2. Make the gif. "
   ]
  },
  {
   "cell_type": "code",
   "execution_count": 14,
   "id": "c9cda4ba",
   "metadata": {},
   "outputs": [
    {
     "name": "stdout",
     "output_type": "stream",
     "text": [
      "Writing to directory: idpq32w0q_0-1023_0-1023\n",
      "Will not overwrite any existing files.\n"
     ]
    }
   ],
   "source": [
    "gif_frames = make_frames(plot, gif_setup)"
   ]
  },
  {
   "cell_type": "code",
   "execution_count": 15,
   "id": "dc345210",
   "metadata": {},
   "outputs": [
    {
     "name": "stdout",
     "output_type": "stream",
     "text": [
      "GIF saved.\n"
     ]
    }
   ],
   "source": [
    "make_gif(gif_frames, gif_setup)"
   ]
  },
  {
   "cell_type": "markdown",
   "id": "ffdef2a4",
   "metadata": {},
   "source": [
    "<a id=\"conclusions\"></a>\n",
    "## 3. Conclusions \n",
    "\n",
    "Thank you for walking through this notebook! You have:\n",
    "- learned about the format and purpose of IMA files\n",
    "- examined different reads of an IMA file\n",
    "- created image frames and/or GIFs for a particular customized view.  \n",
    "\n",
    "**Congratulations, you have completed the notebook.**"
   ]
  },
  {
   "cell_type": "markdown",
   "id": "705a5746",
   "metadata": {},
   "source": [
    "<a id=\"add\"></a>\n",
    "## Additional Resources \n",
    "\n",
    "Below are some additional resources that may be helpful. Please send any questions through the [HST Help Desk](https://stsci.service-now.com/hst).\n",
    "\n",
    "- [Types of WFC3 Files](https://hst-docs.stsci.edu/wfc3dhb/chapter-2-wfc3-data-structure/2-1-types-of-wfc3-files)\n",
    "\n",
    "\n",
    "<a id=\"about\"></a>\n",
    "## About this Notebook \n",
    "\n",
    "**Author:** Mariarosa Marinelli, ISSB/WFC3\n",
    "\n",
    "**Updated On:** 2022-12-19\n",
    "\n",
    "***"
   ]
  },
  {
   "cell_type": "markdown",
   "id": "cfd166fa",
   "metadata": {},
   "source": [
    "[Top of Page](#top)\n",
    "<img style=\"float: right;\" src=\"https://raw.githubusercontent.com/spacetelescope/notebooks/master/assets/stsci_pri_combo_mark_horizonal_white_bkgd.png\" alt=\"Space Telescope Logo\" width=\"200px\"/> "
   ]
  },
  {
   "cell_type": "code",
   "execution_count": null,
   "id": "89fa05ab",
   "metadata": {},
   "outputs": [],
   "source": []
  }
 ],
 "metadata": {
  "kernelspec": {
   "display_name": "Python 3 (ipykernel)",
   "language": "python",
   "name": "python3"
  },
  "language_info": {
   "codemirror_mode": {
    "name": "ipython",
    "version": 3
   },
   "file_extension": ".py",
   "mimetype": "text/x-python",
   "name": "python",
   "nbconvert_exporter": "python",
   "pygments_lexer": "ipython3",
   "version": "3.9.0"
  }
 },
 "nbformat": 4,
 "nbformat_minor": 5
}
