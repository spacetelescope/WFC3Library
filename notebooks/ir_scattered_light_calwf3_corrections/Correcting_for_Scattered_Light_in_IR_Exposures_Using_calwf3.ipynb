{
 "cells": [
  {
   "cell_type": "markdown",
   "metadata": {},
   "source": [
    "<a id=\"top\"></a>\n",
    "# Correcting for Scattered Light in WFC3/IR Exposures: Using `calwf3` to Exclude Bad Reads\n",
    "\n",
    "<div class=\"alert alert-block alert-info\">\n",
    "\n",
    "Please note that this method may leave large sky residuals in regions \n",
    "corresponding to IR 'blobs', flagged in the FLT data quality (DQ) array a value of 512. This method is therefore recommended for observations acquired using an WFC3-IR-\n",
    "DITHER-BLOB dither (or POSTARG equivalent) to step over blob regions. Software such\n",
    "as AstroDrizzle may then be used to combine the FLT exposures, while excluding pixels \n",
    "with 512 flags.\n",
    "\n",
    "</div>\n",
    "\n",
    "## Learning Goals\n",
    "\n",
    "This notebook shows one of two available methods to correct for time-variable background \n",
    "(TVB) due to scattered light from observing close to the Earth's limb. This method illustrates how to mask bad reads in the RAW image and then reprocess with calwf3, and it may be used for rejecting anomalous reads occurring either at the beginning\n",
    "or at the end of an exposure. \n",
    "\n",
    "By the end of this tutorial, you will:\n",
    "\n",
    "- Compute and plot the difference between IMA reads to identify those affected by TVB. \n",
    "- Reprocess a single exposure with `calwf3` by excluding the first few reads which are affected by scattered light.\n",
    "- Compare the original FLT to the reprocessed FLT image.\n",
    "\n",
    "A second method (manually subtracting bad reads from the final exposure) can \n",
    "be found in the notebook Correcting for Scattered Light in IR Exposures: Manually Excluding Bad Reads (O'Connor, in prep.). This provides a method for removing anomalies such as satellite trails which appear in the middle of an IMA exposure.  One caveat of the second method is that it does not perform the 'ramp fitting' step and therefore the calibrated FLT products will still contain cosmic rays.  \n",
    "\n",
    "## Table of Contents\n",
    "\n",
    "[Introduction](#intro) <br>\n",
    "[1. Imports](#import) <br>\n",
    "[2. Downloading Data](#load) <br>\n",
    "[3. Identifying Reads with Time Variable Background](#identify) <br>\n",
    "[4. Querying CRDS for the Reference File](#ref) <br>\n",
    "[5. Reprocessing the Observation](#main) <br>\n",
    "- [5.1 Re-running `calwf3`](#reprocess) <br>\n",
    "- [5.2 Comparing FLT Products](#compare) <br>\n",
    "\n",
    "[6. Drizzling Nominal and Reprocessed FLT Products](#drizzle) <br>\n",
    "[7. Conclusions](#conclusions) <br>\n",
    "[Additional Resources](#add) <br>\n",
    "[About this Notebook](#about) <br>\n",
    "[Citations](#cite) <br>\n"
   ]
  },
  {
   "cell_type": "markdown",
   "metadata": {},
   "source": [
    "## Introduction <a id=\"intro\"></a>\n",
    "\n",
    "Observations with strong time variability in the sky background during a MULTIACCUM ramp can corrupt the WFC3 calwf3 'linear ramp fit' and cosmic-ray identification algorithm (CRCORR, [Section 3.3.10 of the Data Handbook](https://hst-docs.stsci.edu/wfc3dhb/chapter-3-wfc3-data-calibration/3-3-ir-data-calibration-steps#id-3.3IRDataCalibrationSteps-3.3.10)). The CRCORR \n",
    "algorithm assumes that a given pixel sees a constant count rate throughout the read from a \n",
    "combination of sources and diffuse background (i.e., the \"ramps\" are linear). A background \n",
    "varying strongly with time (i.e. where the \"ramps\" are non-linear) can trigger the cosmic-ray \n",
    "(CR) flagging thresholds in calwf3, causing the algorithm to identify most or all of the pixels as a CR at any given read.\n",
    "\n",
    "In this notebook we will use an example examine an observation affected by strong TVB, \n",
    "specifically due to Earth limb scattered light ([Section 7.10 of the WFC3 Data Handbook](https://hst-docs.stsci.edu/wfc3dhb/chapter-7-wfc3-ir-sources-of-error/7-10-time-variable-background)) affecting the first few reads and producing a spatially variable background. We will run `calwf3` while rejecting the affected reads to create an improved FLT product with a flat background and an improved ramp fit. One caveat is that the new FLT will \n",
    "have a reduced total exposure time, given the rejection of some number of reads, and \n",
    "therefore a lower signal-to-noise ratio.\n",
    "\n",
    "Please see the notebook IR IMA Visualization with An Example of Time Variable Background(O'Connor, in prep.) for a walkthrough of how to identify a TVB in due to scattered light. "
   ]
  },
  {
   "cell_type": "markdown",
   "metadata": {},
   "source": [
    "## 1. Imports <a id=\"import\"></a>\n",
    "\n",
    "This notebook assumes you have created the virtual environment in [WFC3 Library's](https://github.com/spacetelescope/WFC3Library) installation instructions.\n",
    "\n",
    "We import:\n",
    "\n",
    "- *os* for setting environment variables\n",
    "- *glob* for finding lists of files\n",
    "- *shutil* for managing directories\n",
    "- *numpy* for handling array functions\n",
    "- *matplotlib.pyplot* for plotting data\n",
    "- *astropy.io fits* for accessing FITS files\n",
    "- *astroquery.mast Observations* for downloading data from MAST\n",
    "- *wfc3tools* `calwf3` for calibrating WFC3 data\n",
    "- *stsci.tools teal* for running `calwf3`\n",
    "- *ginga* for finding min/max outlier pixels\n",
    "\n",
    "We import the following modules:\n",
    "- *ima_visualization_and_differencing* to take the difference between reads, plot the ramp, and visualize the difference in images\n"
   ]
  },
  {
   "cell_type": "code",
   "execution_count": null,
   "metadata": {},
   "outputs": [],
   "source": [
    "import os \n",
    "import glob\n",
    "import shutil \n",
    "import numpy as np\n",
    "from matplotlib import pyplot as plt\n",
    "from astropy.io import fits\n",
    "from astroquery.mast import Mast\n",
    "from astroquery.mast import Observations\n",
    "from wfc3tools import calwf3\n",
    "from stsci.tools import teal\n",
    "from ginga.util.zscale import zscale\n",
    "\n",
    "import ima_visualization_and_differencing as diff\n",
    "\n",
    "%matplotlib inline\n"
   ]
  },
  {
   "cell_type": "markdown",
   "metadata": {},
   "source": [
    "## 2. Downloading Data<a id=\"load\"></a>"
   ]
  },
  {
   "cell_type": "markdown",
   "metadata": {},
   "source": [
    "The following commands query MAST for the necessary data products and downloads them to the current directory. Here we obtain WFC3/IR observations from HST Frontier Fields program [14037](https://archive.stsci.edu/proposal_search.php?id=14037&mission=hst), Visit BB. We specifically want the observation \"\"icqtbbbxq\", as it is strongly affected by Earth limb scattered light. The data products requested are the RAW, IMA, and FLT files.\n",
    "\n",
    "**Warning: this cell may take a few minutes to complete.**"
   ]
  },
  {
   "cell_type": "code",
   "execution_count": null,
   "metadata": {},
   "outputs": [],
   "source": [
    "OBS_ID = 'ICQTBB020'\n",
    "#OBS_ID = 'ICXT27020'\n",
    "data_list = Observations.query_criteria(obs_id=OBS_ID)\n",
    "\n",
    "file_id = \"icqtbbbxq\"\n",
    "#file_id = 'icxt27hkq'\n",
    "Observations.download_products(data_list['obsid'],project = 'CALWF3', obs_id = file_id, \n",
    "                mrp_only = False, productSubGroupDescription = ['RAW', 'IMA', 'FLT'])\n",
    "\n",
    "\n",
    "#for an example of TVB at the end of an exposure, use the following dataset (OBS_ID = ICXT27020, file_id=icxt27hkq, while masking reads 1 to 5)"
   ]
  },
  {
   "cell_type": "markdown",
   "metadata": {},
   "source": [
    "Now, we will move our IMA and FLT files to a separate directory called \"orig/\" so they are not overwritten when we run `calwf3`. We leave our RAW file in the working directory for later use."
   ]
  },
  {
   "cell_type": "code",
   "execution_count": null,
   "metadata": {},
   "outputs": [],
   "source": [
    "if not os.path.exists('orig/'):\n",
    "    os.mkdir('orig/')\n",
    "\n",
    "shutil.copy(f'mastDownload/HST/{file_id}/{file_id}_ima.fits',f'orig/{file_id}_ima.fits')\n",
    "shutil.copy(f'mastDownload/HST/{file_id}/{file_id}_flt.fits',f'orig/{file_id}_flt.fits')  \n",
    "\n",
    "raw_file = f'mastDownload/HST/{file_id}/{file_id}_raw.fits'\n",
    "\n",
    "shutil.copy(raw_file, f'{file_id}_raw.fits')"
   ]
  },
  {
   "cell_type": "markdown",
   "metadata": {},
   "source": [
    "## 3. Identifying Reads with Time Variable Background<a id=\"identify\"></a>"
   ]
  },
  {
   "cell_type": "markdown",
   "metadata": {},
   "source": [
    "In this section, we show how to identify the reads impacted by TVB by examining the difference in count rate between reads. This section was taken from the [IR IMA Visualization with An Example of Time Variable Background ADD LINK]() notebook, which includes a more comprehensive walkthrough of identifying time variable background in IR images. \n",
    "\n",
    "Here we implement a technique to examine the count rate difference between consecutive reads. In this case, we first convert from count rate (electrons/second) back to counts (electrons) before taking the difference, as shown in equation 3 from [WFC3/IR ISR 2018-05](https://www.stsci.edu/files/live/sites/www/files/home/hst/instrumentation/wfc3/documentation/instrument-science-reports-isrs/_documents/2018/WFC3-2018-05.pdf). \n",
    "\n",
    "![Instantaneous Difference Equation](instantaneous_diff.png)\n",
    "\n",
    "We compare sky values in different regions of the detector (left side, right side, and full frame). If you would like to specify your own regions for the left and right sides of your image, you can change the \"lhs_region\" and \"rhs_region\" parameters. Each region must be specified as a dictionary including the four \"corners\" (x0, x1, y0, and y1) of the region you would like to select. You may want to avoid the edges of the detector which have a large number of bad pixels and higher flat field errors."
   ]
  },
  {
   "cell_type": "code",
   "execution_count": null,
   "metadata": {},
   "outputs": [],
   "source": [
    "fig = plt.figure(figsize = (20, 10))\n",
    "\n",
    "ima = f'orig/{file_id}_ima.fits'\n",
    "\n",
    "path, filename = os.path.split(ima)\n",
    "cube, integ_time = diff.read_wfc3(ima)\n",
    "\n",
    "\n",
    "lhs_region = {\"x0\":50,\"x1\":250,\"y0\":100,\"y1\":900}\n",
    "rhs_region = {\"x0\":700,\"x1\":900,\"y0\":100,\"y1\":900}\n",
    "\n",
    "#Please use a limit that makes sense for your own data, when running your images through this notebook.\n",
    "cube[np.abs(cube) > 3] = np.nan\n",
    "\n",
    "diff_cube = diff.compute_diff_imas(cube, integ_time, diff_method = \"instantaneous\")\n",
    "median_diff_fullframe, median_diff_lhs, median_diff_rhs = diff.get_median_fullframe_lhs_rhs(diff_cube, lhs_region = lhs_region, rhs_region = rhs_region)\n",
    "\n",
    "plt.rc('xtick', labelsize = 20) \n",
    "plt.rc('ytick', labelsize = 20) \n",
    "plt.rcParams.update({'font.size': 30})\n",
    "plt.rcParams.update({'lines.markersize': 15})\n",
    "\n",
    "diff.plot_ramp(ima, integ_time, median_diff_fullframe, median_diff_lhs, median_diff_rhs)\n",
    "\n",
    "plt.ylim(0.5,2.5)\n",
    "_=plt.title(filename)\n",
    "\n",
    "\n"
   ]
  },
  {
   "cell_type": "markdown",
   "metadata": {},
   "source": [
    "Here, we use the *read_wfc* funtion found in *ima_visualization_and_differencing.py* to grab the IMA data from all reads as a data cube and the integration time array, and implementing upper and lower limits on our pixel values to exclude sources when plotting our ramp. We take the instantaneous difference using the *compute_diff_imas* function from *ima_visualization_and_differencing.py*, which computes the difference as described in the equation above. Finally, We use the *plot_ramp* function from the module to plot the median count rate from the left side, right side, and full frame image.\n"
   ]
  },
  {
   "cell_type": "markdown",
   "metadata": {},
   "source": [
    "For our scattered light exposure, we see  zodiacal light at a level of ~0.9e/s in later reads, with the scattered light component affecting the first several reads where the mean count rate for the left side (orange triangles) is larger than the right side (green triangles). We can visualize this in 2 dimensions in the panel plot below, using the *panel_plot* function from the *PanelShow.py* module.  \n",
    "\n",
    "In the panel plot, we see that sources (small galaxies) are visible in the difference images using this new method. Note that this may complicate the analysis of the spatial background (e.g. left versus right) for images with extended targets, such as large galaxies. In this case, users may wish to adjust the regions of the detector used for the ramp plots. We therefore recommend inspecting both the panel plots as well as the ramp fits for diagnosing any issues with the data. "
   ]
  },
  {
   "cell_type": "code",
   "execution_count": null,
   "metadata": {},
   "outputs": [],
   "source": [
    "path,filename = os.path.split(ima)\n",
    "\n",
    "cube, integ_time = diff.read_wfc3(ima)\n",
    "\n",
    "lhs_region = {\"x0\":50,\"x1\":250,\"y0\":100,\"y1\":900}\n",
    "rhs_region = {\"x0\":700,\"x1\":900,\"y0\":100,\"y1\":900}\n",
    "\n",
    "median_fullframe, median_lhs, median_rhs = diff.get_median_fullframe_lhs_rhs(cube, lhs_region = lhs_region, rhs_region = rhs_region)\n",
    "\n",
    "diff_cube = diff.compute_diff_imas(cube, integ_time, diff_method = 'instantaneous')\n",
    "\n",
    "median_diff_fullframe, median_diff_lhs, median_diff_rhs = diff.get_median_fullframe_lhs_rhs(diff_cube, lhs_region = lhs_region, rhs_region = rhs_region)\n",
    "standard_dev_fullframe, standard_dev_lhs, standard_dev_rhs = diff.get_median_std_fullframe_lhs_rhs(diff_cube, lhs_region = lhs_region, rhs_region = rhs_region)\n",
    "\n",
    "fig_0 = diff.panel_plot(cube, integ_time, median_diff_fullframe, median_diff_lhs, median_diff_rhs, standard_dev_fullframe, standard_dev_lhs, standard_dev_rhs, diff_method = 'instantaneous')\n",
    "_=fig_0.suptitle(filename, fontsize = 40)\n",
    "plt.subplots_adjust(bottom = 0.25, right = 0.9, top = 0.95)"
   ]
  },
  {
   "cell_type": "markdown",
   "metadata": {},
   "source": [
    "In this figure, we see that the ratio of instantaneous rate for the left versus right side of the image is ~1.0 for all but the first few reads (which are affected by scattered light). We choose to exclude reads with a ratio greater than 1.1 e-/s from the exposure and reprocess the image with `calwf3`. While this reduces the total exposure from 1403 to 1000 seconds, it removes the spatial component from the sky background and allows for a more accurate 'up-the-ramp' fit with `calwf3`."
   ]
  },
  {
   "cell_type": "markdown",
   "metadata": {},
   "source": [
    "## 4. Querying CRDS for the Reference File<a id=\"ref\"></a>"
   ]
  },
  {
   "cell_type": "markdown",
   "metadata": {},
   "source": [
    "Before running `calwf3`, we need to set some environment variables.\n",
    "\n",
    "We will point to a subdirectory called crds_cache/ using the IREF environment variable, which is used for WFC3 reference files. Other instruments use other variables, e.g., JREF for ACS."
   ]
  },
  {
   "cell_type": "code",
   "execution_count": null,
   "metadata": {},
   "outputs": [],
   "source": [
    "os.environ['CRDS_SERVER_URL'] = 'https://hst-crds.stsci.edu'\n",
    "os.environ['CRDS_SERVER'] = 'https://hst-crds.stsci.edu'\n",
    "os.environ['CRDS_PATH'] = './crds_cache'\n",
    "os.environ['iref'] = './crds_cache/references/hst/wfc3/'"
   ]
  },
  {
   "cell_type": "markdown",
   "metadata": {},
   "source": [
    "The code block below will query CRDS for the best reference files currently available for our dataset and update the header keywords to point to these new files. We will use the Python package *os* to run terminal commands. In the terminal, the line would be:"
   ]
  },
  {
   "cell_type": "raw",
   "metadata": {},
   "source": [
    "crds bestrefs --files [filename] --sync-references=1 --update-bestrefs"
   ]
  },
  {
   "cell_type": "markdown",
   "metadata": {},
   "source": [
    "...where 'filename' is the name of your fits file.\n",
    "\n",
    "\n",
    "**Warning: this cell may take a few minutes to complete.**"
   ]
  },
  {
   "cell_type": "code",
   "execution_count": null,
   "metadata": {},
   "outputs": [],
   "source": [
    "raw_file = f'{file_id}_raw.fits'\n",
    "\n",
    "\n",
    "print( f\"Querying CRDS for the reference file associated with {raw_file}.\")\n",
    "command_line_input = 'crds bestrefs --files {:} --sync-references=1 --update-bestrefs'.format(raw_file)\n",
    "os.system(command_line_input)"
   ]
  },
  {
   "cell_type": "markdown",
   "metadata": {},
   "source": [
    "## 5. Reprocessing the Observation<a id=\"main\"></a>"
   ]
  },
  {
   "cell_type": "markdown",
   "metadata": {},
   "source": [
    "As discussed in the [introduction](#intro) to this notebook, the accuracy of the ramp fit performed during the CRCORR cosmic-ray rejection step of the pipeline determines the quality of the calibrated IR FLT data products. Given that a time variable background can compromise the quality of the ramp fit, observations affected by TVB will likely result in poor-quality calibrated FLT images ([Appendix: Variable Background Correction of the WFC3/IR 2021-01 ISR](https://www.stsci.edu/files/live/sites/www/files/home/hst/instrumentation/wfc3/documentation/instrument-science-reports-isrs/_documents/2021/2021-01.pdf).)\n",
    "\n",
    "To address poorly calibrated FLT images where some reads are affected by scattered light TVB (as in our example observation), we can remove these reads and re-run `calwf3` to produce cleaner FLT images. We choose to exclude reads where the ratio of background signal is greater than 1.1 e-/s (see the notebook [IR IMA Visualization with An Example of Time Variable Background]() for a more complete demonstration of how we find this ratio).\n",
    "\n",
    "The following reprocessing example is replacing section [7.10.1 of the WFC3 Data Handbook](https://hst-docs.stsci.edu/wfc3dhb/chapter-7-wfc3-ir-sources-of-error/7-10-time-variable-background). "
   ]
  },
  {
   "cell_type": "markdown",
   "metadata": {},
   "source": [
    "### 5.1 Re-running `calwf3` <a id=\"reprocess\"></a>"
   ]
  },
  {
   "cell_type": "markdown",
   "metadata": {},
   "source": [
    "Below, we select our excluded reads (in this case reads 11-15), which are at the beginning of the exposure. We set the DQ value to 1024 for these reads, prompting `calwf3` to flag all pixels in these reads as bad, effectively rejecting the reads."
   ]
  },
  {
   "cell_type": "code",
   "execution_count": null,
   "metadata": {
    "scrolled": true
   },
   "outputs": [],
   "source": [
    "raw_filepath = f'{file_id}_raw.fits'\n",
    "reads = np.arange(11,16) #numpy arange creates an array including the start value (11) but excluding the stop value (16), so the array is actually 11-15. \n",
    "for read in reads:\n",
    "    fits.setval(raw_filepath,extver = read,extname = 'DQ',keyword = 'pixvalue',value = 1024)\n",
    "\n",
    "#maybe put the remove files thing here, and check for the correct raw file    \n",
    "\n",
    "calwf3(raw_filepath)\n"
   ]
  },
  {
   "cell_type": "markdown",
   "metadata": {},
   "source": [
    "### 5.2 Comparing FLT Products <a id=\"compare\"></a>"
   ]
  },
  {
   "cell_type": "markdown",
   "metadata": {},
   "source": [
    "Please move your reprocessed images to a new directory with a different name each time you run this notebook."
   ]
  },
  {
   "cell_type": "code",
   "execution_count": null,
   "metadata": {},
   "outputs": [],
   "source": [
    "reprocessed_flt = f'{file_id}_flt.fits'\n",
    "reprocessed_ima = f'{file_id}_ima.fits'\n",
    "original_flt = f'orig/{file_id}_flt.fits'\n",
    "original_ima = f'orig/{file_id}_ima.fits'"
   ]
  },
  {
   "cell_type": "markdown",
   "metadata": {},
   "source": [
    "Now, we can compare our original and reprocessed FLT products."
   ]
  },
  {
   "cell_type": "code",
   "execution_count": null,
   "metadata": {
    "scrolled": false
   },
   "outputs": [],
   "source": [
    "\n",
    "image_new = fits.open(reprocessed_flt, mode = 'update')\n",
    "image_old = fits.open(original_flt)\n",
    "\n",
    "fig = plt.figure(figsize=(20, 7))\n",
    "fig\n",
    "rows = 1\n",
    "columns = 2\n",
    "\n",
    "vmin_new,vmax_new = zscale(image_new[\"SCI\", 1].data)\n",
    "\n",
    "#add the total exptime in the title \n",
    "ax1 = fig.add_subplot(rows, columns, 1)\n",
    "ax1.set_title(\"Reprocessed FLT image\", fontsize = 20)\n",
    "im1 = plt.imshow(image_new[\"SCI\", 1].data, vmin = vmin_new, vmax = vmax_new, origin = 'lower', cmap = 'Greys_r')\n",
    "ax1.tick_params(axis = 'both',labelsize = 10)\n",
    "cbar1=plt.colorbar(im1, ax = ax1)\n",
    "cbar1.ax.tick_params(labelsize = 10)\n",
    "\n",
    "\n",
    "vmin_old,vmax_old = zscale(image_old[\"SCI\", 1].data)\n",
    "\n",
    "ax2 = fig.add_subplot(rows,columns,2)\n",
    "ax2.set_title(\"Original FLT image\", fontsize = 20)\n",
    "im2 = plt.imshow(image_old[\"SCI\", 1].data, vmin = vmin_old, vmax = vmax_old, origin = 'lower',  cmap = 'Greys_r')\n",
    "ax2.tick_params(axis = 'both', labelsize = 10)\n",
    "cbar2 = plt.colorbar(im2, ax = ax2)\n",
    "cbar2.ax.tick_params(labelsize = 10)\n",
    "\n",
    "plt.rc('xtick', labelsize = 10) \n",
    "plt.rc('ytick', labelsize = 10) \n",
    "\n"
   ]
  },
  {
   "cell_type": "markdown",
   "metadata": {},
   "source": [
    "This new image was produced by `calwf3` after masking the first 5 reads (not including the zero read) in the RAW file, reducing the effective exposure time from 1403 to 1000 seconds. While the total exposure is reduced from 1403 seconds to 1000 seconds (thus decreasing the overall S/N of the image), the background in the reprocessed image is now uniform over the entire field of view. We can see that the new FLT image is free of the Earth limb scattered light visible in the old FLT image. \n",
    "\n",
    "We update the FLT header keywords \"EXPTIME\" (in the primary header) and \"SAMPTIME\" (in the science header) to reflect the new total exposure time."
   ]
  },
  {
   "cell_type": "code",
   "execution_count": null,
   "metadata": {
    "scrolled": true
   },
   "outputs": [],
   "source": [
    "\n",
    "ima_orig = fits.open(original_ima)\n",
    "        \n",
    "hdr = ima_orig[0].header\n",
    "NSAMP = hdr['NSAMP']\n",
    "hdr1 = ima_orig[1].header\n",
    "integ_time = np.zeros(shape = (NSAMP))\n",
    "for i in range(1, NSAMP+1):\n",
    "        integ_time[i-1] = ima_orig[('TIME', i)].header['PIXVALUE']\n",
    "integ_time = integ_time[::-1]\n",
    "\n",
    "dt = np.diff(integ_time)\n",
    "\n",
    "final_time = integ_time[-1]\n",
    "\n",
    "if (len(reads) > 0):\n",
    "    for read in reads:\n",
    "        index = len(integ_time)-read-1 #because the reads are stored in reverse order\n",
    "        final_time -= dt[index]\n",
    "        \n",
    "        \n",
    "print(f'The final exposure time after reprocessing is {final_time}.')\n",
    "image_new[0].header['EXPTIME'] = final_time\n",
    "image_new.flush()\n",
    "image_new.close()"
   ]
  },
  {
   "attachments": {},
   "cell_type": "markdown",
   "metadata": {},
   "source": [
    "Finally, note that the reprocessed FLT product now includes a larger sky background in science pixels corresponding to IR \"blobs\", regions of reduced sensitivity due particulate matter on the channel selection mechanism (CSM) mirror([section 7.5 of the WFC3 Data Handbook](https://hst-docs.stsci.edu/wfc3dhb/chapter-7-wfc3-ir-sources-of-error/7-5-blobs)). \n",
    "\n",
    "The method for correcting IR images described in the notebook Correcting for Scattered Light in IR Exposures: Manually Excluding Bad Reads (O'Connor, in prep.) provides FLT products without blobs, but that do include cosmic rays."
   ]
  },
  {
   "cell_type": "markdown",
   "metadata": {},
   "source": [
    "## 6. Drizzling Nominal and Reprocessed FLT Products <a id=\"drizzle\"></a>"
   ]
  },
  {
   "cell_type": "markdown",
   "metadata": {},
   "source": [
    "In our example we use an exposure ('icqtbbbxq') from image association 'ICQTBB020' acquired in visit BB of program [14037](https://www.stsci.edu/hst/observing/program-information). This visit consists of two orbits of two exposures each, and we focus on the second orbit which contains two identical images of the target (filter=F140W, SAMP-SEQ=SPARS100, NSAMP=16). The first exposure 'icqtbbbxq' was acquired in the first half of the orbit and is strongly contaminated by scattered light. The second exposure 'icqtbbc0q' was acquired during the second half of the orbit and is a nominal image (it is not affected by scattered light).\n",
    "\n",
    "To produce a clean DRZ image (without blob residuals), we can drizzle the two FLTs together (from the nominal exposure and the reprocessed exposure), replacing pixels flagged as blobs with those from the dithered (nominal) image."
   ]
  },
  {
   "cell_type": "code",
   "execution_count": null,
   "metadata": {},
   "outputs": [],
   "source": [
    "from drizzlepac import astrodrizzle\n",
    "\n",
    "data_list = Observations.query_criteria(obs_id = OBS_ID)\n",
    "\n",
    "Observations.download_products(data_list['obsid'],project = 'CALWF3',  \n",
    "                mrp_only = False,productSubGroupDescription = ['FLT','DRZ'])\n",
    "\n"
   ]
  },
  {
   "cell_type": "code",
   "execution_count": null,
   "metadata": {},
   "outputs": [],
   "source": [
    "nominal_file_ids = [\"icqtbbc0q\", \"icqtbbbrq\", \"icqtbbbtq\"]\n",
    "#nominal_file_ids = [\"icxt27hoq\"]\n",
    "nominal_list = []\n",
    "for nominal_file_id in nominal_file_ids:\n",
    "    shutil.copy(f'mastDownload/HST/{nominal_file_id}/{nominal_file_id}_flt.fits', f'{nominal_file_id}_flt.fits')\n",
    "    nominal_list.append(f'{nominal_file_id}_flt.fits')\n",
    "print(nominal_list)"
   ]
  },
  {
   "cell_type": "code",
   "execution_count": null,
   "metadata": {},
   "outputs": [],
   "source": [
    "from stwcs import updatewcs\n",
    "updatewcs.updatewcs(reprocessed_flt, use_db=True)"
   ]
  },
  {
   "cell_type": "code",
   "execution_count": null,
   "metadata": {},
   "outputs": [],
   "source": [
    "astrodrizzle.AstroDrizzle('*flt.fits', output = 'f140w', preserve = False, build = False, context = False, skymethod = 'match', driz_separate = False, median = False, blot = False, driz_cr = False, final_bits = '16')\n",
    "#astrodrizzle.AstroDrizzle('*flt.fits', output='f105w', preserve=False, build=False, context=False, skymethod='match', driz_separate=False, median=False, blot=False, driz_cr=False, final_bits='16')"
   ]
  },
  {
   "cell_type": "markdown",
   "metadata": {},
   "source": [
    "Comparing the new DRZ image made with the reprocessed FLT product against the original pipeline DRZ image, we see that the new DRZ image no longer includes scattered light but has a slightly lower S/N due the reduced total exposure time from 1403 to 1000 seconds. "
   ]
  },
  {
   "cell_type": "code",
   "execution_count": null,
   "metadata": {},
   "outputs": [],
   "source": [
    "DRZ_image = fits.open(\"f140w_drz_sci.fits\")\n",
    "Orig_DRZ = fits.open('mastDownload/HST/icqtbb020/icqtbb020_drz.fits')\n",
    "\n",
    "#DRZ_image = fits.open(\"f105w_drz_sci.fits\")\n",
    "#Orig_DRZ = fits.open('mastDownload/HST/icxt27020/icxt27020_drz.fits')\n",
    "\n",
    "fig = plt.figure(figsize = (20,10))\n",
    "rows = 1\n",
    "columns = 2\n",
    "\n",
    "vmin_new,vmax_new = zscale(DRZ_image[0].data)\n",
    "\n",
    "#add the total exptime in the title \n",
    "ax1 = fig.add_subplot(rows, columns, 1)\n",
    "ax1.set_title(\"Reprocessed DRZ Image\", fontsize = 20)\n",
    "vmin,vmax = zscale(DRZ_image[0].data)\n",
    "im1 = plt.imshow(DRZ_image[0].data, vmin = vmin, vmax = vmax,  origin = 'lower',  cmap = 'Greys_r')\n",
    "_=plt.colorbar()\n",
    "\n",
    "ax2 = fig.add_subplot(rows, columns, 2)\n",
    "ax2.set_title(\"Original Pipeline DRZ Image\", fontsize = 20)\n",
    "im2 = plt.imshow(Orig_DRZ[1].data, vmin = vmin, vmax = vmax,  origin = 'lower',  cmap = 'Greys_r')\n",
    "_=plt.colorbar()\n"
   ]
  },
  {
   "cell_type": "markdown",
   "metadata": {},
   "source": [
    "## 7. Conclusions <a id=\"conclusions\"></a>\n",
    "\n",
    "**Congratulations, you have completed the notebook.**\n",
    "\n",
    "You should now be familiar with how to reprocess an observation affected by Earth limb scattered light by removing the first few reads and rerunning `calwf3`.\n",
    "\n",
    "Thank you for following along! "
   ]
  },
  {
   "cell_type": "markdown",
   "metadata": {},
   "source": [
    "## Additional Resources <a id=\"add\"></a>\n",
    "\n",
    "\n",
    "Below are some additional resources that may be helpful. Please send any questions through the [HST Help Desk](https://stsci.service-now.com/hst).\n",
    "\n",
    "- [WFC3 Website](https://www.stsci.edu/hst/instrumentation/wfc3)\n",
    "    - [WFC3/UVIS CTE Website](https://www.stsci.edu/hst/instrumentation/wfc3/performance/cte)\n",
    "- [WFC3 Instrument Handbook](https://hst-docs.stsci.edu/wfc3ihb)\n",
    "- [WFC3 Data Handbook](https://hst-docs.stsci.edu/wfc3dhb)\n",
    "- [Instrument Science Report WFC3 2021-01](https://www.stsci.edu/files/live/sites/www/files/home/hst/instrumentation/wfc3/documentation/instrument-science-reports-isrs/_documents/2021/2021-01.pdf)\n",
    "\n",
    "## About this Notebook <a id=\"about\"></a>\n",
    "\n",
    "\n",
    "**Author:** Anne O'Connor, Jennifer Mack, Annalisa Calamida, Harish Khandrika -- WFC3 Instrument\n",
    "\n",
    "**Updated On:** 2023-02-01\n",
    "\n",
    "## Citations <a id=\"cite\"></a>\n",
    "\n",
    "If you use the following tools for published research, please cite the\n",
    "authors. Follow these links for more information about citing the tools:\n",
    "\n",
    "* [Citing `numpy`](https://numpy.org/citing-numpy/)\n",
    "* [Citing `astropy`](https://www.astropy.org/acknowledging.html)\n",
    "* [Citing `astroquery`](https://astroquery.readthedocs.io/en/latest/)\n",
    "* [Citing `wfc3tools`](https://wfc3tools.readthedocs.io/en/latest/)\n",
    "* [Citing `drizzlepac`](https://drizzlepac.readthedocs.io/en/latest/LICENSE.html)\n",
    "\n",
    "\n",
    "If you use this notebook, or information from the WFC3 Data Handbook, Instrument Handbook,\n",
    "or WFC3 ISRs for published research, please cite them:\n",
    "\n",
    "* [Citing the WFC3 Data Handbook](https://hst-docs.stsci.edu/wfc3dhb#:~:text=Citation,%2C%20(Baltimore%3A%20STScI).)\n",
    "* [Citing the WFC3 Instrument Handbook](https://hst-docs.stsci.edu/wfc3ihb#:~:text=Citation,14.0%E2%80%9D%20(Baltimore%3A%20STScI))\n",
    "* [Instrument Science Report WFC3 2021-01](https://www.stsci.edu/files/live/sites/www/files/home/hst/instrumentation/wfc3/documentation/instrument-science-reports-isrs/_documents/2021/2021-01.pdf)\n",
    "* Citing this notebook:\n",
    "    Please cite the primary author and year, and hyperlink the notebook or WFC3 Library\n",
    "***"
   ]
  },
  {
   "cell_type": "markdown",
   "metadata": {},
   "source": [
    "[Top of Page](#top)\n",
    "<img style=\"float: right;\" src=\"https://raw.githubusercontent.com/spacetelescope/notebooks/master/assets/stsci_pri_combo_mark_horizonal_white_bkgd.png\" alt=\"Space Telescope Logo\" width=\"200px\"/> "
   ]
  }
 ],
 "metadata": {
  "kernelspec": {
   "display_name": "Python 3 (ipykernel)",
   "language": "python",
   "name": "python3"
  },
  "language_info": {
   "codemirror_mode": {
    "name": "ipython",
    "version": 3
   },
   "file_extension": ".py",
   "mimetype": "text/x-python",
   "name": "python",
   "nbconvert_exporter": "python",
   "pygments_lexer": "ipython3",
   "version": "3.11.0"
  }
 },
 "nbformat": 4,
 "nbformat_minor": 2
}
